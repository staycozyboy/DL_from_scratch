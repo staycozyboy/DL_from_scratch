{
 "cells": [
  {
   "cell_type": "code",
   "execution_count": 9,
   "metadata": {},
   "outputs": [
    {
     "name": "stdout",
     "output_type": "stream",
     "text": [
      "Collecting d2l\n",
      "  Downloading d2l-0.16.1-py3-none-any.whl (76 kB)\n",
      "\u001b[K     |████████████████████████████████| 76 kB 1.1 MB/s eta 0:00:01\n",
      "\u001b[?25hRequirement already satisfied, skipping upgrade: pandas in /home/cozyboy/anaconda3/lib/python3.8/site-packages (from d2l) (1.0.5)\n",
      "Requirement already satisfied, skipping upgrade: numpy in /home/cozyboy/anaconda3/lib/python3.8/site-packages (from d2l) (1.18.5)\n",
      "Requirement already satisfied, skipping upgrade: matplotlib in /home/cozyboy/anaconda3/lib/python3.8/site-packages (from d2l) (3.2.2)\n",
      "Requirement already satisfied, skipping upgrade: jupyter in /home/cozyboy/anaconda3/lib/python3.8/site-packages (from d2l) (1.0.0)\n",
      "Requirement already satisfied, skipping upgrade: pytz>=2017.2 in /home/cozyboy/anaconda3/lib/python3.8/site-packages (from pandas->d2l) (2020.1)\n",
      "Requirement already satisfied, skipping upgrade: python-dateutil>=2.6.1 in /home/cozyboy/anaconda3/lib/python3.8/site-packages (from pandas->d2l) (2.8.1)\n",
      "Requirement already satisfied, skipping upgrade: kiwisolver>=1.0.1 in /home/cozyboy/anaconda3/lib/python3.8/site-packages (from matplotlib->d2l) (1.2.0)\n",
      "Requirement already satisfied, skipping upgrade: pyparsing!=2.0.4,!=2.1.2,!=2.1.6,>=2.0.1 in /home/cozyboy/anaconda3/lib/python3.8/site-packages (from matplotlib->d2l) (2.4.7)\n",
      "Requirement already satisfied, skipping upgrade: cycler>=0.10 in /home/cozyboy/anaconda3/lib/python3.8/site-packages (from matplotlib->d2l) (0.10.0)\n",
      "Requirement already satisfied, skipping upgrade: qtconsole in /home/cozyboy/anaconda3/lib/python3.8/site-packages (from jupyter->d2l) (4.7.5)\n",
      "Requirement already satisfied, skipping upgrade: ipywidgets in /home/cozyboy/anaconda3/lib/python3.8/site-packages (from jupyter->d2l) (7.5.1)\n",
      "Requirement already satisfied, skipping upgrade: nbconvert in /home/cozyboy/anaconda3/lib/python3.8/site-packages (from jupyter->d2l) (5.6.1)\n",
      "Requirement already satisfied, skipping upgrade: ipykernel in /home/cozyboy/anaconda3/lib/python3.8/site-packages (from jupyter->d2l) (5.3.2)\n",
      "Requirement already satisfied, skipping upgrade: notebook in /home/cozyboy/anaconda3/lib/python3.8/site-packages (from jupyter->d2l) (6.0.3)\n",
      "Requirement already satisfied, skipping upgrade: jupyter-console in /home/cozyboy/anaconda3/lib/python3.8/site-packages (from jupyter->d2l) (6.1.0)\n",
      "Requirement already satisfied, skipping upgrade: six>=1.5 in /home/cozyboy/anaconda3/lib/python3.8/site-packages (from python-dateutil>=2.6.1->pandas->d2l) (1.15.0)\n",
      "Requirement already satisfied, skipping upgrade: traitlets in /home/cozyboy/anaconda3/lib/python3.8/site-packages (from qtconsole->jupyter->d2l) (4.3.3)\n",
      "Requirement already satisfied, skipping upgrade: jupyter-core in /home/cozyboy/anaconda3/lib/python3.8/site-packages (from qtconsole->jupyter->d2l) (4.6.3)\n",
      "Requirement already satisfied, skipping upgrade: ipython-genutils in /home/cozyboy/anaconda3/lib/python3.8/site-packages (from qtconsole->jupyter->d2l) (0.2.0)\n",
      "Requirement already satisfied, skipping upgrade: jupyter-client>=4.1 in /home/cozyboy/anaconda3/lib/python3.8/site-packages (from qtconsole->jupyter->d2l) (6.1.6)\n",
      "Requirement already satisfied, skipping upgrade: qtpy in /home/cozyboy/anaconda3/lib/python3.8/site-packages (from qtconsole->jupyter->d2l) (1.9.0)\n",
      "Requirement already satisfied, skipping upgrade: pygments in /home/cozyboy/anaconda3/lib/python3.8/site-packages (from qtconsole->jupyter->d2l) (2.6.1)\n",
      "Requirement already satisfied, skipping upgrade: pyzmq>=17.1 in /home/cozyboy/anaconda3/lib/python3.8/site-packages (from qtconsole->jupyter->d2l) (19.0.1)\n",
      "Requirement already satisfied, skipping upgrade: widgetsnbextension~=3.5.0 in /home/cozyboy/anaconda3/lib/python3.8/site-packages (from ipywidgets->jupyter->d2l) (3.5.1)\n",
      "Requirement already satisfied, skipping upgrade: nbformat>=4.2.0 in /home/cozyboy/anaconda3/lib/python3.8/site-packages (from ipywidgets->jupyter->d2l) (5.0.7)\n",
      "Requirement already satisfied, skipping upgrade: ipython>=4.0.0; python_version >= \"3.3\" in /home/cozyboy/anaconda3/lib/python3.8/site-packages (from ipywidgets->jupyter->d2l) (7.16.1)\n",
      "Requirement already satisfied, skipping upgrade: entrypoints>=0.2.2 in /home/cozyboy/anaconda3/lib/python3.8/site-packages (from nbconvert->jupyter->d2l) (0.3)\n",
      "Requirement already satisfied, skipping upgrade: testpath in /home/cozyboy/anaconda3/lib/python3.8/site-packages (from nbconvert->jupyter->d2l) (0.4.4)\n",
      "Requirement already satisfied, skipping upgrade: jinja2>=2.4 in /home/cozyboy/anaconda3/lib/python3.8/site-packages (from nbconvert->jupyter->d2l) (2.11.2)\n",
      "Requirement already satisfied, skipping upgrade: pandocfilters>=1.4.1 in /home/cozyboy/anaconda3/lib/python3.8/site-packages (from nbconvert->jupyter->d2l) (1.4.2)\n",
      "Requirement already satisfied, skipping upgrade: mistune<2,>=0.8.1 in /home/cozyboy/anaconda3/lib/python3.8/site-packages (from nbconvert->jupyter->d2l) (0.8.4)\n",
      "Requirement already satisfied, skipping upgrade: bleach in /home/cozyboy/anaconda3/lib/python3.8/site-packages (from nbconvert->jupyter->d2l) (3.1.5)\n",
      "Requirement already satisfied, skipping upgrade: defusedxml in /home/cozyboy/anaconda3/lib/python3.8/site-packages (from nbconvert->jupyter->d2l) (0.6.0)\n",
      "Requirement already satisfied, skipping upgrade: tornado>=4.2 in /home/cozyboy/anaconda3/lib/python3.8/site-packages (from ipykernel->jupyter->d2l) (6.0.4)\n",
      "Requirement already satisfied, skipping upgrade: prometheus-client in /home/cozyboy/anaconda3/lib/python3.8/site-packages (from notebook->jupyter->d2l) (0.8.0)\n",
      "Requirement already satisfied, skipping upgrade: Send2Trash in /home/cozyboy/anaconda3/lib/python3.8/site-packages (from notebook->jupyter->d2l) (1.5.0)\n",
      "Requirement already satisfied, skipping upgrade: terminado>=0.8.1 in /home/cozyboy/anaconda3/lib/python3.8/site-packages (from notebook->jupyter->d2l) (0.8.3)\n",
      "Requirement already satisfied, skipping upgrade: prompt-toolkit!=3.0.0,!=3.0.1,<3.1.0,>=2.0.0 in /home/cozyboy/anaconda3/lib/python3.8/site-packages (from jupyter-console->jupyter->d2l) (3.0.5)\n",
      "Requirement already satisfied, skipping upgrade: decorator in /home/cozyboy/anaconda3/lib/python3.8/site-packages (from traitlets->qtconsole->jupyter->d2l) (4.4.2)\n",
      "Requirement already satisfied, skipping upgrade: jsonschema!=2.5.0,>=2.4 in /home/cozyboy/anaconda3/lib/python3.8/site-packages (from nbformat>=4.2.0->ipywidgets->jupyter->d2l) (3.2.0)\n",
      "Requirement already satisfied, skipping upgrade: jedi>=0.10 in /home/cozyboy/anaconda3/lib/python3.8/site-packages (from ipython>=4.0.0; python_version >= \"3.3\"->ipywidgets->jupyter->d2l) (0.17.1)\n",
      "Requirement already satisfied, skipping upgrade: pexpect; sys_platform != \"win32\" in /home/cozyboy/anaconda3/lib/python3.8/site-packages (from ipython>=4.0.0; python_version >= \"3.3\"->ipywidgets->jupyter->d2l) (4.8.0)\n",
      "Requirement already satisfied, skipping upgrade: pickleshare in /home/cozyboy/anaconda3/lib/python3.8/site-packages (from ipython>=4.0.0; python_version >= \"3.3\"->ipywidgets->jupyter->d2l) (0.7.5)\n",
      "Requirement already satisfied, skipping upgrade: backcall in /home/cozyboy/anaconda3/lib/python3.8/site-packages (from ipython>=4.0.0; python_version >= \"3.3\"->ipywidgets->jupyter->d2l) (0.2.0)\n",
      "Requirement already satisfied, skipping upgrade: setuptools>=18.5 in /home/cozyboy/anaconda3/lib/python3.8/site-packages (from ipython>=4.0.0; python_version >= \"3.3\"->ipywidgets->jupyter->d2l) (49.2.0.post20200714)\n",
      "Requirement already satisfied, skipping upgrade: MarkupSafe>=0.23 in /home/cozyboy/anaconda3/lib/python3.8/site-packages (from jinja2>=2.4->nbconvert->jupyter->d2l) (1.1.1)\n",
      "Requirement already satisfied, skipping upgrade: webencodings in /home/cozyboy/anaconda3/lib/python3.8/site-packages (from bleach->nbconvert->jupyter->d2l) (0.5.1)\n",
      "Requirement already satisfied, skipping upgrade: packaging in /home/cozyboy/anaconda3/lib/python3.8/site-packages (from bleach->nbconvert->jupyter->d2l) (20.4)\n",
      "Requirement already satisfied, skipping upgrade: wcwidth in /home/cozyboy/anaconda3/lib/python3.8/site-packages (from prompt-toolkit!=3.0.0,!=3.0.1,<3.1.0,>=2.0.0->jupyter-console->jupyter->d2l) (0.2.5)\n",
      "Requirement already satisfied, skipping upgrade: attrs>=17.4.0 in /home/cozyboy/anaconda3/lib/python3.8/site-packages (from jsonschema!=2.5.0,>=2.4->nbformat>=4.2.0->ipywidgets->jupyter->d2l) (19.3.0)\n",
      "Requirement already satisfied, skipping upgrade: pyrsistent>=0.14.0 in /home/cozyboy/anaconda3/lib/python3.8/site-packages (from jsonschema!=2.5.0,>=2.4->nbformat>=4.2.0->ipywidgets->jupyter->d2l) (0.16.0)\n",
      "Requirement already satisfied, skipping upgrade: parso<0.8.0,>=0.7.0 in /home/cozyboy/anaconda3/lib/python3.8/site-packages (from jedi>=0.10->ipython>=4.0.0; python_version >= \"3.3\"->ipywidgets->jupyter->d2l) (0.7.0)\n",
      "Requirement already satisfied, skipping upgrade: ptyprocess>=0.5 in /home/cozyboy/anaconda3/lib/python3.8/site-packages (from pexpect; sys_platform != \"win32\"->ipython>=4.0.0; python_version >= \"3.3\"->ipywidgets->jupyter->d2l) (0.6.0)\n"
     ]
    },
    {
     "name": "stdout",
     "output_type": "stream",
     "text": [
      "Installing collected packages: d2l\n",
      "Successfully installed d2l-0.16.1\n",
      "Note: you may need to restart the kernel to use updated packages.\n"
     ]
    }
   ],
   "source": [
    "pip install -U d2l"
   ]
  },
  {
   "cell_type": "code",
   "execution_count": 15,
   "metadata": {},
   "outputs": [
    {
     "ename": "ModuleNotFoundError",
     "evalue": "No module named 'torchvision'",
     "output_type": "error",
     "traceback": [
      "\u001b[0;31m---------------------------------------------------------------------------\u001b[0m",
      "\u001b[0;31mModuleNotFoundError\u001b[0m                       Traceback (most recent call last)",
      "\u001b[0;32m<ipython-input-15-46c28a1753f5>\u001b[0m in \u001b[0;36m<module>\u001b[0;34m\u001b[0m\n\u001b[1;32m      1\u001b[0m \u001b[0mget_ipython\u001b[0m\u001b[0;34m(\u001b[0m\u001b[0;34m)\u001b[0m\u001b[0;34m.\u001b[0m\u001b[0mrun_line_magic\u001b[0m\u001b[0;34m(\u001b[0m\u001b[0;34m'matplotlib'\u001b[0m\u001b[0;34m,\u001b[0m \u001b[0;34m'inline'\u001b[0m\u001b[0;34m)\u001b[0m\u001b[0;34m\u001b[0m\u001b[0;34m\u001b[0m\u001b[0m\n\u001b[0;32m----> 2\u001b[0;31m \u001b[0;32mfrom\u001b[0m \u001b[0md2l\u001b[0m \u001b[0;32mimport\u001b[0m \u001b[0mtorch\u001b[0m \u001b[0;32mas\u001b[0m \u001b[0md2l\u001b[0m\u001b[0;34m\u001b[0m\u001b[0;34m\u001b[0m\u001b[0m\n\u001b[0m\u001b[1;32m      3\u001b[0m \u001b[0;32mimport\u001b[0m \u001b[0mtorch\u001b[0m\u001b[0;34m\u001b[0m\u001b[0;34m\u001b[0m\u001b[0m\n\u001b[1;32m      4\u001b[0m \u001b[0;32mfrom\u001b[0m \u001b[0mtorch\u001b[0m\u001b[0;34m.\u001b[0m\u001b[0mdistributions\u001b[0m \u001b[0;32mimport\u001b[0m \u001b[0mmultinomial\u001b[0m\u001b[0;34m\u001b[0m\u001b[0;34m\u001b[0m\u001b[0m\n",
      "\u001b[0;32m~/anaconda3/lib/python3.8/site-packages/d2l/torch.py\u001b[0m in \u001b[0;36m<module>\u001b[0;34m\u001b[0m\n\u001b[1;32m     26\u001b[0m \u001b[0;32mimport\u001b[0m \u001b[0mnumpy\u001b[0m \u001b[0;32mas\u001b[0m \u001b[0mnp\u001b[0m\u001b[0;34m\u001b[0m\u001b[0;34m\u001b[0m\u001b[0m\n\u001b[1;32m     27\u001b[0m \u001b[0;32mimport\u001b[0m \u001b[0mtorch\u001b[0m\u001b[0;34m\u001b[0m\u001b[0;34m\u001b[0m\u001b[0m\n\u001b[0;32m---> 28\u001b[0;31m \u001b[0;32mimport\u001b[0m \u001b[0mtorchvision\u001b[0m\u001b[0;34m\u001b[0m\u001b[0;34m\u001b[0m\u001b[0m\n\u001b[0m\u001b[1;32m     29\u001b[0m \u001b[0;32mfrom\u001b[0m \u001b[0mtorch\u001b[0m \u001b[0;32mimport\u001b[0m \u001b[0mnn\u001b[0m\u001b[0;34m\u001b[0m\u001b[0;34m\u001b[0m\u001b[0m\n\u001b[1;32m     30\u001b[0m \u001b[0;32mfrom\u001b[0m \u001b[0mtorch\u001b[0m\u001b[0;34m.\u001b[0m\u001b[0mnn\u001b[0m \u001b[0;32mimport\u001b[0m \u001b[0mfunctional\u001b[0m \u001b[0;32mas\u001b[0m \u001b[0mF\u001b[0m\u001b[0;34m\u001b[0m\u001b[0;34m\u001b[0m\u001b[0m\n",
      "\u001b[0;31mModuleNotFoundError\u001b[0m: No module named 'torchvision'"
     ]
    }
   ],
   "source": [
    "%matplotlib inline\n",
    "from d2l import torch as d2l\n",
    "import torch\n",
    "from torch.distributions import multinomial"
   ]
  },
  {
   "cell_type": "code",
   "execution_count": 4,
   "metadata": {},
   "outputs": [
    {
     "data": {
      "text/plain": [
       "tensor([0., 0., 1., 0., 0., 0.])"
      ]
     },
     "execution_count": 4,
     "metadata": {},
     "output_type": "execute_result"
    }
   ],
   "source": [
    "fair_probs = torch.ones([6]) / 6\n",
    "multinomial.Multinomial(1, fair_probs).sample()"
   ]
  },
  {
   "cell_type": "code",
   "execution_count": 5,
   "metadata": {},
   "outputs": [
    {
     "data": {
      "text/plain": [
       "tensor([3., 3., 1., 1., 1., 1.])"
      ]
     },
     "execution_count": 5,
     "metadata": {},
     "output_type": "execute_result"
    }
   ],
   "source": [
    "multinomial.Multinomial(10, fair_probs).sample()"
   ]
  },
  {
   "cell_type": "code",
   "execution_count": 7,
   "metadata": {},
   "outputs": [
    {
     "data": {
      "text/plain": [
       "tensor([0.1460, 0.1810, 0.1780, 0.1890, 0.1450, 0.1610])"
      ]
     },
     "execution_count": 7,
     "metadata": {},
     "output_type": "execute_result"
    }
   ],
   "source": [
    "counts = multinomial.Multinomial(1000, fair_probs).sample()\n",
    "counts / 1000"
   ]
  },
  {
   "cell_type": "code",
   "execution_count": null,
   "metadata": {},
   "outputs": [],
   "source": [
    "counts = multinomial.Multinomial(10, fair_probs).sample((500,))\n",
    "cum_counts = counts.cumsum(dim=0)\n",
    "estimates = cum_counts / cum_counts.sum(dim=1, keepdims=True)\n",
    "\n",
    "d2l.set_figsize((6, 4.5))\n",
    "for i in range(6):\n",
    "    d2l.plt.plot(estimates[:, i].numpy(),\n",
    "                 label=(\"P(die=\" + str(i + 1) + \")\"))\n",
    "d2l.plt.axhline(y=0.167, color='black', linestyle='dashed')\n",
    "d2l.plt.gca().set_xlabel('Groups of experiments')\n",
    "d2l.plt.gca().set_ylabel('Estimated probability')\n",
    "d2l.plt.legend();"
   ]
  },
  {
   "cell_type": "code",
   "execution_count": null,
   "metadata": {},
   "outputs": [],
   "source": []
  }
 ],
 "metadata": {
  "kernelspec": {
   "display_name": "Python 3",
   "language": "python",
   "name": "python3"
  },
  "language_info": {
   "codemirror_mode": {
    "name": "ipython",
    "version": 3
   },
   "file_extension": ".py",
   "mimetype": "text/x-python",
   "name": "python",
   "nbconvert_exporter": "python",
   "pygments_lexer": "ipython3",
   "version": "3.8.3"
  }
 },
 "nbformat": 4,
 "nbformat_minor": 4
}
